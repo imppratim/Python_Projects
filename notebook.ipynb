{
 "cells": [
  {
   "cell_type": "markdown",
   "id": "d7f40777",
   "metadata": {
    "dc": {
     "key": "4"
    },
    "deletable": false,
    "editable": false,
    "run_control": {
     "frozen": true
    },
    "tags": [
     "context"
    ]
   },
   "source": [
    "## 1. Loading your friend's data into a dictionary\n",
    "<p>Netflix! What started in 1997 as a DVD rental service has since exploded into the largest entertainment/media company by <a href=\"https://www.marketwatch.com/story/netflix-shares-close-up-8-for-yet-another-record-high-2020-07-10\">market capitalization</a>, boasting over 200 million subscribers as of <a href=\"https://www.cbsnews.com/news/netflix-tops-200-million-subscribers-but-faces-growing-challenge-from-disney-plus/\">January 2021</a>.</p>\n",
    "<p>Given the large number of movies and series available on the platform, it is a perfect opportunity to flex our data manipulation skills and dive into the entertainment industry. Our friend has also been brushing up on their Python skills and has taken a first crack at a CSV file containing Netflix data. For their first order of business, they have been performing some analyses, and they believe that the average duration of movies has been declining. </p>\n",
    "<p>As evidence of this, they have provided us with the following information. For the years from 2011 to 2020, the average movie durations are 103, 101, 99, 100, 100, 95, 95, 96, 93, and 90, respectively.</p>\n",
    
   ]
  },
  {
   "cell_type": "code",
   "execution_count": 2,
   "id": "fb2269f0",
   "metadata": {
    "dc": {
     "key": "4"
    },
    "tags": [
     "sample_code"
    ]
   },
   "outputs": [
    {
     "name": "stdout",
     "output_type": "stream",
     "text": [
      "{'years': [2011, 2012, 2013, 2014, 2015, 2016, 2017, 2018, 2019, 2020], 'durations': [103, 101, 99, 100, 100, 95, 95, 96, 93, 90]}\n"
     ]
    }
   ],
   "source": [
    "# Create the years and durations lists\n",
    "years = [2011, 2012, 2013, 2014, 2015, 2016, 2017, 2018, 2019, 2020]\n",
    "durations = [103, 101, 99, 100, 100, 95, 95, 96, 93, 90]\n",
    "\n",
    "# Create a dictionary with the two lists\n",
    "movie_dict = {'years':years, 'durations': durations}\n",
    "\n",
    "# Print the dictionary\n",
    "print(movie_dict)"
   ]
  },
  {
   "cell_type": "markdown",
   "id": "9bf775e9",
   "metadata": {
    "dc": {
     "key": "11"
    },
    "deletable": false,
    "editable": false,
    "run_control": {
     "frozen": true
    },
    "tags": [
     "context"
    ]
   },
   "source": [
    "## 2. Creating a DataFrame from a dictionary\n",
    "<p>To convert our dictionary <code>movie_dict</code> to a <code>pandas</code> DataFrame, we will first need to import the library under its usual alias. We'll also want to inspect our DataFrame to ensure it was created correctly. Let's perform these steps now.</p>"
   ]
  },
  {
   "cell_type": "code",
   "execution_count": 4,
   "id": "43ade2f3",
   "metadata": {
    "dc": {
     "key": "11"
    },
    "tags": [
     "sample_code"
    ]
   },
   "outputs": [
    {
     "name": "stdout",
     "output_type": "stream",
     "text": [
      "   years  durations\n",
      "0   2011        103\n",
      "1   2012        101\n",
      "2   2013         99\n",
      "3   2014        100\n",
      "4   2015        100\n",
      "5   2016         95\n",
      "6   2017         95\n",
      "7   2018         96\n",
      "8   2019         93\n",
      "9   2020         90\n"
     ]
    }
   ],
   "source": [
    "# Import pandas under its usual alias\n",
    "import pandas as pd\n",
    "\n",
    "# Create a DataFrame from the dictionary\n",
    "durations_df = pd.DataFrame(movie_dict)\n",
    "\n",
    "# Print the DataFrame\n",
    "print(durations_df)"
   ]
  },
  {
   "cell_type": "markdown",
   "id": "b31d02ea",
   "metadata": {
    "dc": {
     "key": "18"
    },
    "deletable": false,
    "editable": false,
    "run_control": {
     "frozen": true
    },
    "tags": [
     "context"
    ]
   },
   "source": [
    "## 3. A visual inspection of our data\n",
    "<p>Alright, we now have a <code>pandas</code> DataFrame, the most common way to work with tabular data in Python. Now back to the task at hand. We want to follow up on our friend's assertion that movie lengths have been decreasing over time. A great place to start will be a visualization of the data.</p>\n",
    "<p>Given that the data is continuous, a line plot would be a good choice, with the dates represented along the x-axis and the average length in minutes along the y-axis. This will allow us to easily spot any trends in movie durations. There are many ways to visualize data in Python, but <code>matploblib.pyplot</code> is one of the most common packages to do so.</p>\n",
    "<p><em>Note: In order for us to correctly test your plot, you will need to initalize a <code>matplotlib.pyplot</code> Figure object, which we have already provided in the cell below. You can continue to create your plot as you have learned in Intermediate Python.</em></p>"
   ]
  },
  {
   "cell_type": "code",
   "execution_count": 6,
   "id": "3a47e331",
   "metadata": {
    "dc": {
     "key": "18"
    },
    "tags": [
     "sample_code"
    ]
   },
   "outputs": [
    {
     "data": {
      "image/png": "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\n",
      "text/plain": [
       "<Figure size 432x288 with 1 Axes>"
      ]
     },
     "metadata": {
      "needs_background": "light"
     },
     "output_type": "display_data"
    }
   ],
   "source": [
    "# Import matplotlib.pyplot under its usual alias and create a figure\n",
    "import matplotlib.pyplot as plt\n",
    "fig = plt.figure()\n",
    "\n",
    "# Draw a line plot of release_years and durations\n",
    "plt.plot(durations_df,durations)\n",
    "# Create a title\n",
    "plt.title(\"Netflix Movie Durations 2011-2020\")\n",
    "\n",
    "# Show the plot\n",
    "plt.show()"
   ]
  },
  {
   "cell_type": "markdown",
   "id": "5c5867b2",
   "metadata": {
    "dc": {
     "key": "25"
    },
    "deletable": false,
    "editable": false,
    "run_control": {
     "frozen": true
    },
    "tags": [
     "context"
    ]
   },
   "source": [
    "## 4. Loading the rest of the data from a CSV\n",
    "<p>Well, it looks like there is something to the idea that movie lengths have decreased over the past ten years! But equipped only with our friend's aggregations, we're limited in the further explorations we can perform. There are a few questions about this trend that we are currently unable to answer, including:</p>\n",
    "<ol>\n",
    "<li>What does this trend look like over a longer period of time?</li>\n",
    "<li>Is this explainable by something like the genre of entertainment?</li>\n",
    "</ol>\n",
    "<p>Upon asking our friend for the original CSV they used to perform their analyses, they gladly oblige and send it. We now have access to the CSV file, available at the path <code>\"datasets/netflix_data.csv\"</code>. Let's create another DataFrame, this time with all of the data. Given the length of our friend's data, printing the whole DataFrame is probably not a good idea, so we will inspect it by printing only the first five rows.</p>"
   ]
  },
  {
   "cell_type": "code",
   "execution_count": 8,
   "id": "b62f81d2",
   "metadata": {
    "dc": {
     "key": "25"
    },
    "tags": [
     "sample_code"
    ]
   },
   "outputs": [
    {
     "data": {
      "text/html": [
       "<div>\n",
       "<style scoped>\n",
       "    .dataframe tbody tr th:only-of-type {\n",
       "        vertical-align: middle;\n",
       "    }\n",
       "\n",
       "    .dataframe tbody tr th {\n",
       "        vertical-align: top;\n",
       "    }\n",
       "\n",
       "    .dataframe thead th {\n",
       "        text-align: right;\n",
       "    }\n",
       "</style>\n",
       "<table border=\"1\" class=\"dataframe\">\n",
       "  <thead>\n",
       "    <tr style=\"text-align: right;\">\n",
       "      <th></th>\n",
       "      <th>show_id</th>\n",
       "      <th>type</th>\n",
       "      <th>title</th>\n",
       "      <th>director</th>\n",
       "      <th>cast</th>\n",
       "      <th>country</th>\n",
       "      <th>date_added</th>\n",
       "      <th>release_year</th>\n",
       "      <th>duration</th>\n",
       "      <th>description</th>\n",
       "      <th>genre</th>\n",
       "    </tr>\n",
       "  </thead>\n",
       "  <tbody>\n",
       "    <tr>\n",
       "      <th>0</th>\n",
       "      <td>s1</td>\n",
       "      <td>TV Show</td>\n",
       "      <td>3%</td>\n",
       "      <td>NaN</td>\n",
       "      <td>João Miguel, Bianca Comparato, Michel Gomes, R...</td>\n",
       "      <td>Brazil</td>\n",
       "      <td>August 14, 2020</td>\n",
       "      <td>2020</td>\n",
       "      <td>4</td>\n",
       "      <td>In a future where the elite inhabit an island ...</td>\n",
       "      <td>International TV</td>\n",
       "    </tr>\n",
       "    <tr>\n",
       "      <th>1</th>\n",
       "      <td>s2</td>\n",
       "      <td>Movie</td>\n",
       "      <td>7:19</td>\n",
       "      <td>Jorge Michel Grau</td>\n",
       "      <td>Demián Bichir, Héctor Bonilla, Oscar Serrano, ...</td>\n",
       "      <td>Mexico</td>\n",
       "      <td>December 23, 2016</td>\n",
       "      <td>2016</td>\n",
       "      <td>93</td>\n",
       "      <td>After a devastating earthquake hits Mexico Cit...</td>\n",
       "      <td>Dramas</td>\n",
       "    </tr>\n",
       "    <tr>\n",
       "      <th>2</th>\n",
       "      <td>s3</td>\n",
       "      <td>Movie</td>\n",
       "      <td>23:59</td>\n",
       "      <td>Gilbert Chan</td>\n",
       "      <td>Tedd Chan, Stella Chung, Henley Hii, Lawrence ...</td>\n",
       "      <td>Singapore</td>\n",
       "      <td>December 20, 2018</td>\n",
       "      <td>2011</td>\n",
       "      <td>78</td>\n",
       "      <td>When an army recruit is found dead, his fellow...</td>\n",
       "      <td>Horror Movies</td>\n",
       "    </tr>\n",
       "    <tr>\n",
       "      <th>3</th>\n",
       "      <td>s4</td>\n",
       "      <td>Movie</td>\n",
       "      <td>9</td>\n",
       "      <td>Shane Acker</td>\n",
       "      <td>Elijah Wood, John C. Reilly, Jennifer Connelly...</td>\n",
       "      <td>United States</td>\n",
       "      <td>November 16, 2017</td>\n",
       "      <td>2009</td>\n",
       "      <td>80</td>\n",
       "      <td>In a postapocalyptic world, rag-doll robots hi...</td>\n",
       "      <td>Action</td>\n",
       "    </tr>\n",
       "    <tr>\n",
       "      <th>4</th>\n",
       "      <td>s5</td>\n",
       "      <td>Movie</td>\n",
       "      <td>21</td>\n",
       "      <td>Robert Luketic</td>\n",
       "      <td>Jim Sturgess, Kevin Spacey, Kate Bosworth, Aar...</td>\n",
       "      <td>United States</td>\n",
       "      <td>January 1, 2020</td>\n",
       "      <td>2008</td>\n",
       "      <td>123</td>\n",
       "      <td>A brilliant group of students become card-coun...</td>\n",
       "      <td>Dramas</td>\n",
       "    </tr>\n",
       "  </tbody>\n",
       "</table>\n",
       "</div>"
      ],
      "text/plain": [
       "  show_id     type  title           director  \\\n",
       "0      s1  TV Show     3%                NaN   \n",
       "1      s2    Movie   7:19  Jorge Michel Grau   \n",
       "2      s3    Movie  23:59       Gilbert Chan   \n",
       "3      s4    Movie      9        Shane Acker   \n",
       "4      s5    Movie     21     Robert Luketic   \n",
       "\n",
       "                                                cast        country  \\\n",
       "0  João Miguel, Bianca Comparato, Michel Gomes, R...         Brazil   \n",
       "1  Demián Bichir, Héctor Bonilla, Oscar Serrano, ...         Mexico   \n",
       "2  Tedd Chan, Stella Chung, Henley Hii, Lawrence ...      Singapore   \n",
       "3  Elijah Wood, John C. Reilly, Jennifer Connelly...  United States   \n",
       "4  Jim Sturgess, Kevin Spacey, Kate Bosworth, Aar...  United States   \n",
       "\n",
       "          date_added  release_year  duration  \\\n",
       "0    August 14, 2020          2020         4   \n",
       "1  December 23, 2016          2016        93   \n",
       "2  December 20, 2018          2011        78   \n",
       "3  November 16, 2017          2009        80   \n",
       "4    January 1, 2020          2008       123   \n",
       "\n",
       "                                         description             genre  \n",
       "0  In a future where the elite inhabit an island ...  International TV  \n",
       "1  After a devastating earthquake hits Mexico Cit...            Dramas  \n",
       "2  When an army recruit is found dead, his fellow...     Horror Movies  \n",
       "3  In a postapocalyptic world, rag-doll robots hi...            Action  \n",
       "4  A brilliant group of students become card-coun...            Dramas  "
      ]
     },
     "execution_count": 8,
     "metadata": {},
     "output_type": "execute_result"
    }
   ],
   "source": [
    "# Read in the CSV as a DataFrame\n",
    "netflix_df = pd.read_csv(\"datasets/netflix_data.csv\")\n",
    "\n",
    "# Print the first five rows of the DataFrame\n",
    "netflix_df[0:5]"
   ]
  },
  {
   "cell_type": "markdown",
   "id": "aab956e9",
   "metadata": {
    "dc": {
     "key": "32"
    },
    "deletable": false,
    "editable": false,
    "run_control": {
     "frozen": true
    },
    "tags": [
     "context"
    ]
   },
   "source": [
    "## 5. Filtering for movies!\n",
    "<p>Okay, we have our data! Now we can dive in and start looking at movie lengths. </p>\n",
    "<p>Or can we? Looking at the first five rows of our new DataFrame, we notice a column <code>type</code>. Scanning the column, it's clear there are also TV shows in the dataset! Moreover, the <code>duration</code> column we planned to use seems to represent different values depending on whether the row is a movie or a show (perhaps the number of minutes versus the number of seasons)?</p>\n",
    "<p>Fortunately, a DataFrame allows us to filter data quickly, and we can select rows where <code>type</code> is <code>Movie</code>. While we're at it, we don't need information from all of the columns, so let's create a new DataFrame <code>netflix_movies</code> containing only <code>title</code>, <code>country</code>, <code>genre</code>, <code>release_year</code>, and <code>duration</code>.</p>\n",
    "<p>Let's put our data subsetting skills to work!</p>"
   ]
  },
  {
   "cell_type": "code",
   "execution_count": 10,
   "id": "7a342e37",
   "metadata": {
    "dc": {
     "key": "32"
    },
    "tags": [
     "sample_code"
    ]
   },
   "outputs": [
    {
     "data": {
      "text/html": [
       "<div>\n",
       "<style scoped>\n",
       "    .dataframe tbody tr th:only-of-type {\n",
       "        vertical-align: middle;\n",
       "    }\n",
       "\n",
       "    .dataframe tbody tr th {\n",
       "        vertical-align: top;\n",
       "    }\n",
       "\n",
       "    .dataframe thead th {\n",
       "        text-align: right;\n",
       "    }\n",
       "</style>\n",
       "<table border=\"1\" class=\"dataframe\">\n",
       "  <thead>\n",
       "    <tr style=\"text-align: right;\">\n",
       "      <th></th>\n",
       "      <th>title</th>\n",
       "      <th>country</th>\n",
       "      <th>genre</th>\n",
       "      <th>release_year</th>\n",
       "      <th>duration</th>\n",
       "    </tr>\n",
       "  </thead>\n",
       "  <tbody>\n",
       "    <tr>\n",
       "      <th>1</th>\n",
       "      <td>7:19</td>\n",
       "      <td>Mexico</td>\n",
       "      <td>Dramas</td>\n",
       "      <td>2016</td>\n",
       "      <td>93</td>\n",
       "    </tr>\n",
       "    <tr>\n",
       "      <th>2</th>\n",
       "      <td>23:59</td>\n",
       "      <td>Singapore</td>\n",
       "      <td>Horror Movies</td>\n",
       "      <td>2011</td>\n",
       "      <td>78</td>\n",
       "    </tr>\n",
       "    <tr>\n",
       "      <th>3</th>\n",
       "      <td>9</td>\n",
       "      <td>United States</td>\n",
       "      <td>Action</td>\n",
       "      <td>2009</td>\n",
       "      <td>80</td>\n",
       "    </tr>\n",
       "    <tr>\n",
       "      <th>4</th>\n",
       "      <td>21</td>\n",
       "      <td>United States</td>\n",
       "      <td>Dramas</td>\n",
       "      <td>2008</td>\n",
       "      <td>123</td>\n",
       "    </tr>\n",
       "    <tr>\n",
       "      <th>6</th>\n",
       "      <td>122</td>\n",
       "      <td>Egypt</td>\n",
       "      <td>Horror Movies</td>\n",
       "      <td>2019</td>\n",
       "      <td>95</td>\n",
       "    </tr>\n",
       "  </tbody>\n",
       "</table>\n",
       "</div>"
      ],
      "text/plain": [
       "   title        country          genre  release_year  duration\n",
       "1   7:19         Mexico         Dramas          2016        93\n",
       "2  23:59      Singapore  Horror Movies          2011        78\n",
       "3      9  United States         Action          2009        80\n",
       "4     21  United States         Dramas          2008       123\n",
       "6    122          Egypt  Horror Movies          2019        95"
      ]
     },
     "execution_count": 10,
     "metadata": {},
     "output_type": "execute_result"
    }
   ],
   "source": [
    "# Subset the DataFrame for type \"Movie\"\n",
    "netflix_df_movies_only = netflix_df[netflix_df['type'] == 'Movie']\n",
    "\n",
    "# Select only the columns of interest\n",
    "netflix_movies_col_subset = netflix_df_movies_only[['title', 'country', 'genre', 'release_year', 'duration']]\n",
    "\n",
    "# Print the first five rows of the new DataFrame\n",
    "netflix_movies_col_subset[0:5]"
   ]
  },
  {
   "cell_type": "markdown",
   "id": "626c23d4",
   "metadata": {
    "dc": {
     "key": "39"
    },
    "deletable": false,
    "editable": false,
    "run_control": {
     "frozen": true
    },
    "tags": [
     "context"
    ]
   },
   "source": [
    "## 6. Creating a scatter plot\n",
    "<p>Okay, now we're getting somewhere. We've read in the raw data, selected rows of movies, and have limited our DataFrame to our columns of interest. Let's try visualizing the data again to inspect the data over a longer range of time.</p>\n",
    "<p>This time, we are no longer working with aggregates but instead with individual movies. A line plot is no longer a good choice for our data, so let's try a scatter plot instead. We will again plot the year of release on the x-axis and the movie duration on the y-axis.</p>\n",
    "<p><em>Note: Although not taught in Intermediate Python, we have provided you the code <code>fig = plt.figure(figsize=(12,8))</code> to increase the size of the plot (to help you see the results), as well as to assist with testing. For more information on how to create or work with a <code>matplotlib</code> <code>figure</code>, refer to the <a href=\"https://matplotlib.org/stable/api/_as_gen/matplotlib.pyplot.figure.html\">documentation</a>.</em></p>"
   ]
  },
  {
   "cell_type": "code",
   "execution_count": 12,
   "id": "b05851e9",
   "metadata": {
    "dc": {
     "key": "39"
    },
    "tags": [
     "sample_code"
    ]
   },
   "outputs": [
    {
     "data": {
      "image/png": "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\n",
      "text/plain": [
       "<Figure size 864x576 with 1 Axes>"
      ]
     },
     "metadata": {
      "needs_background": "light"
     },
     "output_type": "display_data"
    }
   ],
   "source": [
    "# Create a figure and increase the figure size\n",
    "fig = plt.figure(figsize=(12,8))\n",
    "\n",
    "# Create a scatter plot of duration versus year\n",
    "plt.scatter(netflix_movies_col_subset[\"release_year\"], netflix_movies_col_subset[\"duration\"])\n",
    "\n",
    "# Create a title\n",
    "plt.title(\"Movie Duration by Year of Release\")\n",
    "\n",
    "# Show the plot\n",
    "plt.show()"
   ]
  },
  {
   "cell_type": "markdown",
   "id": "7b21b6bc",
   "metadata": {
    "dc": {
     "key": "46"
    },
    "deletable": false,
    "editable": false,
    "run_control": {
     "frozen": true
    },
    "tags": [
     "context"
    ]
   },
   "source": [
    "## 7. Digging deeper\n",
    "<p>This is already much more informative than the simple plot we created when our friend first gave us some data. We can also see that, while newer movies are overrepresented on the platform, many short movies have been released in the past two decades.</p>\n",
    "<p>Upon further inspection, something else is going on. Some of these films are under an hour long! Let's filter our DataFrame for movies with a <code>duration</code> under 60 minutes and look at the genres. This might give us some insight into what is dragging down the average.</p>"
   ]
  },
  {
   "cell_type": "code",
   "execution_count": 14,
   "id": "0cc2a2dd",
   "metadata": {
    "dc": {
     "key": "46"
    },
    "tags": [
     "sample_code"
    ]
   },
   "outputs": [
    {
     "data": {
      "text/html": [
       "<div>\n",
       "<style scoped>\n",
       "    .dataframe tbody tr th:only-of-type {\n",
       "        vertical-align: middle;\n",
       "    }\n",
       "\n",
       "    .dataframe tbody tr th {\n",
       "        vertical-align: top;\n",
       "    }\n",
       "\n",
       "    .dataframe thead th {\n",
       "        text-align: right;\n",
       "    }\n",
       "</style>\n",
       "<table border=\"1\" class=\"dataframe\">\n",
       "  <thead>\n",
       "    <tr style=\"text-align: right;\">\n",
       "      <th></th>\n",
       "      <th>title</th>\n",
       "      <th>country</th>\n",
       "      <th>genre</th>\n",
       "      <th>release_year</th>\n",
       "      <th>duration</th>\n",
       "    </tr>\n",
       "  </thead>\n",
       "  <tbody>\n",
       "    <tr>\n",
       "      <th>35</th>\n",
       "      <td>#Rucker50</td>\n",
       "      <td>United States</td>\n",
       "      <td>Documentaries</td>\n",
       "      <td>2016</td>\n",
       "      <td>56</td>\n",
       "    </tr>\n",
       "    <tr>\n",
       "      <th>55</th>\n",
       "      <td>100 Things to do Before High School</td>\n",
       "      <td>United States</td>\n",
       "      <td>Uncategorized</td>\n",
       "      <td>2014</td>\n",
       "      <td>44</td>\n",
       "    </tr>\n",
       "    <tr>\n",
       "      <th>67</th>\n",
       "      <td>13TH: A Conversation with Oprah Winfrey &amp; Ava ...</td>\n",
       "      <td>NaN</td>\n",
       "      <td>Uncategorized</td>\n",
       "      <td>2017</td>\n",
       "      <td>37</td>\n",
       "    </tr>\n",
       "    <tr>\n",
       "      <th>101</th>\n",
       "      <td>3 Seconds Divorce</td>\n",
       "      <td>Canada</td>\n",
       "      <td>Documentaries</td>\n",
       "      <td>2018</td>\n",
       "      <td>53</td>\n",
       "    </tr>\n",
       "    <tr>\n",
       "      <th>146</th>\n",
       "      <td>A 3 Minute Hug</td>\n",
       "      <td>Mexico</td>\n",
       "      <td>Documentaries</td>\n",
       "      <td>2019</td>\n",
       "      <td>28</td>\n",
       "    </tr>\n",
       "    <tr>\n",
       "      <th>162</th>\n",
       "      <td>A Christmas Special: Miraculous: Tales of Lady...</td>\n",
       "      <td>France</td>\n",
       "      <td>Uncategorized</td>\n",
       "      <td>2016</td>\n",
       "      <td>22</td>\n",
       "    </tr>\n",
       "    <tr>\n",
       "      <th>171</th>\n",
       "      <td>A Family Reunion Christmas</td>\n",
       "      <td>United States</td>\n",
       "      <td>Uncategorized</td>\n",
       "      <td>2019</td>\n",
       "      <td>29</td>\n",
       "    </tr>\n",
       "    <tr>\n",
       "      <th>177</th>\n",
       "      <td>A Go! Go! Cory Carson Christmas</td>\n",
       "      <td>United States</td>\n",
       "      <td>Children</td>\n",
       "      <td>2020</td>\n",
       "      <td>22</td>\n",
       "    </tr>\n",
       "    <tr>\n",
       "      <th>178</th>\n",
       "      <td>A Go! Go! Cory Carson Halloween</td>\n",
       "      <td>NaN</td>\n",
       "      <td>Children</td>\n",
       "      <td>2020</td>\n",
       "      <td>22</td>\n",
       "    </tr>\n",
       "    <tr>\n",
       "      <th>179</th>\n",
       "      <td>A Go! Go! Cory Carson Summer Camp</td>\n",
       "      <td>NaN</td>\n",
       "      <td>Children</td>\n",
       "      <td>2020</td>\n",
       "      <td>21</td>\n",
       "    </tr>\n",
       "    <tr>\n",
       "      <th>181</th>\n",
       "      <td>A Grand Night In: The Story of Aardman</td>\n",
       "      <td>United Kingdom</td>\n",
       "      <td>Documentaries</td>\n",
       "      <td>2015</td>\n",
       "      <td>59</td>\n",
       "    </tr>\n",
       "    <tr>\n",
       "      <th>200</th>\n",
       "      <td>A Love Song for Latasha</td>\n",
       "      <td>United States</td>\n",
       "      <td>Documentaries</td>\n",
       "      <td>2020</td>\n",
       "      <td>20</td>\n",
       "    </tr>\n",
       "    <tr>\n",
       "      <th>220</th>\n",
       "      <td>A Russell Peters Christmas</td>\n",
       "      <td>Canada</td>\n",
       "      <td>Stand-Up</td>\n",
       "      <td>2011</td>\n",
       "      <td>44</td>\n",
       "    </tr>\n",
       "    <tr>\n",
       "      <th>233</th>\n",
       "      <td>A StoryBots Christmas</td>\n",
       "      <td>United States</td>\n",
       "      <td>Children</td>\n",
       "      <td>2017</td>\n",
       "      <td>26</td>\n",
       "    </tr>\n",
       "    <tr>\n",
       "      <th>237</th>\n",
       "      <td>A Tale of Two Kitchens</td>\n",
       "      <td>United States</td>\n",
       "      <td>Documentaries</td>\n",
       "      <td>2019</td>\n",
       "      <td>30</td>\n",
       "    </tr>\n",
       "    <tr>\n",
       "      <th>242</th>\n",
       "      <td>A Trash Truck Christmas</td>\n",
       "      <td>NaN</td>\n",
       "      <td>Children</td>\n",
       "      <td>2020</td>\n",
       "      <td>28</td>\n",
       "    </tr>\n",
       "    <tr>\n",
       "      <th>247</th>\n",
       "      <td>A Very Murray Christmas</td>\n",
       "      <td>United States</td>\n",
       "      <td>Comedies</td>\n",
       "      <td>2015</td>\n",
       "      <td>57</td>\n",
       "    </tr>\n",
       "    <tr>\n",
       "      <th>285</th>\n",
       "      <td>Abominable Christmas</td>\n",
       "      <td>United States</td>\n",
       "      <td>Children</td>\n",
       "      <td>2012</td>\n",
       "      <td>44</td>\n",
       "    </tr>\n",
       "    <tr>\n",
       "      <th>295</th>\n",
       "      <td>Across Grace Alley</td>\n",
       "      <td>United States</td>\n",
       "      <td>Dramas</td>\n",
       "      <td>2013</td>\n",
       "      <td>24</td>\n",
       "    </tr>\n",
       "    <tr>\n",
       "      <th>305</th>\n",
       "      <td>Adam Devine: Best Time of Our Lives</td>\n",
       "      <td>United States</td>\n",
       "      <td>Stand-Up</td>\n",
       "      <td>2019</td>\n",
       "      <td>59</td>\n",
       "    </tr>\n",
       "  </tbody>\n",
       "</table>\n",
       "</div>"
      ],
      "text/plain": [
       "                                                 title         country  \\\n",
       "35                                           #Rucker50   United States   \n",
       "55                 100 Things to do Before High School   United States   \n",
       "67   13TH: A Conversation with Oprah Winfrey & Ava ...             NaN   \n",
       "101                                  3 Seconds Divorce          Canada   \n",
       "146                                     A 3 Minute Hug          Mexico   \n",
       "162  A Christmas Special: Miraculous: Tales of Lady...          France   \n",
       "171                         A Family Reunion Christmas   United States   \n",
       "177                    A Go! Go! Cory Carson Christmas   United States   \n",
       "178                    A Go! Go! Cory Carson Halloween             NaN   \n",
       "179                  A Go! Go! Cory Carson Summer Camp             NaN   \n",
       "181             A Grand Night In: The Story of Aardman  United Kingdom   \n",
       "200                            A Love Song for Latasha   United States   \n",
       "220                         A Russell Peters Christmas          Canada   \n",
       "233                              A StoryBots Christmas   United States   \n",
       "237                             A Tale of Two Kitchens   United States   \n",
       "242                            A Trash Truck Christmas             NaN   \n",
       "247                            A Very Murray Christmas   United States   \n",
       "285                               Abominable Christmas   United States   \n",
       "295                                 Across Grace Alley   United States   \n",
       "305                Adam Devine: Best Time of Our Lives   United States   \n",
       "\n",
       "             genre  release_year  duration  \n",
       "35   Documentaries          2016        56  \n",
       "55   Uncategorized          2014        44  \n",
       "67   Uncategorized          2017        37  \n",
       "101  Documentaries          2018        53  \n",
       "146  Documentaries          2019        28  \n",
       "162  Uncategorized          2016        22  \n",
       "171  Uncategorized          2019        29  \n",
       "177       Children          2020        22  \n",
       "178       Children          2020        22  \n",
       "179       Children          2020        21  \n",
       "181  Documentaries          2015        59  \n",
       "200  Documentaries          2020        20  \n",
       "220       Stand-Up          2011        44  \n",
       "233       Children          2017        26  \n",
       "237  Documentaries          2019        30  \n",
       "242       Children          2020        28  \n",
       "247       Comedies          2015        57  \n",
       "285       Children          2012        44  \n",
       "295         Dramas          2013        24  \n",
       "305       Stand-Up          2019        59  "
      ]
     },
     "execution_count": 14,
     "metadata": {},
     "output_type": "execute_result"
    }
   ],
   "source": [
    "# Filter for durations shorter than 60 minutes\n",
    "short_movies = netflix_movies_col_subset[netflix_movies_col_subset['duration'] < 60]\n",
    "\n",
    "# Print the first 20 rows of short_movies\n",
    "short_movies[0:20]"
   ]
  },
  {
   "cell_type": "markdown",
   "id": "74c6145f",
   "metadata": {
    "dc": {
     "key": "53"
    },
    "deletable": false,
    "editable": false,
    "run_control": {
     "frozen": true
    },
    "tags": [
     "context"
    ]
   },
   "source": [
    "## 8. Marking non-feature films\n",
    "<p>Interesting! It looks as though many of the films that are under 60 minutes fall into genres such as \"Children\", \"Stand-Up\", and \"Documentaries\". This is a logical result, as these types of films are probably often shorter than 90 minute Hollywood blockbuster. </p>\n",
    "<p>We could eliminate these rows from our DataFrame and plot the values again. But another interesting way to explore the effect of these genres on our data would be to plot them, but mark them with a different color.</p>\n",
    "<p>In Python, there are many ways to do this, but one fun way might be to use a loop to generate a list of colors based on the contents of the <code>genre</code> column. Much as we did in Intermediate Python, we can then pass this list to our plotting function in a later step to color all non-typical genres in a different color!</p>\n",
    "<p><em>Note: Although we are using the basic colors of red, blue, green, and black, <code>matplotlib</code> has many named colors you can use when creating plots. For more information, you can refer to the documentation <a href=\"https://matplotlib.org/stable/gallery/color/named_colors.html\">here</a>!</em></p>"
   ]
  },
  {
   "cell_type": "code",
   "execution_count": 16,
   "id": "62cfe4e5",
   "metadata": {
    "dc": {
     "key": "53"
    },
    "tags": [
     "sample_code"
    ]
   },
   "outputs": [
    {
     "data": {
      "text/plain": [
       "['black',\n",
       " 'black',\n",
       " 'black',\n",
       " 'black',\n",
       " 'black',\n",
       " 'black',\n",
       " 'black',\n",
       " 'black',\n",
       " 'black',\n",
       " 'blue']"
      ]
     },
     "execution_count": 16,
     "metadata": {},
     "output_type": "execute_result"
    }
   ],
   "source": [
    "# Define an empty list\n",
    "colors = []\n",
    "\n",
    "# Iterate over rows of netflix_movies_col_subset\n",
    "for lab, row in netflix_movies_col_subset.iterrows():\n",
    "    if row['genre'] == \"Children\":\n",
    "        colors.append(\"red\")\n",
    "    elif row['genre'] == \"Documentaries\":\n",
    "        colors.append(\"blue\")\n",
    "    elif row['genre'] == \"Stand-Up\":\n",
    "        colors.append(\"green\")\n",
    "    else:\n",
    "        colors.append(\"black\")\n",
    "\n",
    "# Inspect the first 10 values in your list      \n",
    "colors[0:10]"
   ]
  },
  {
   "cell_type": "markdown",
   "id": "737ae84f",
   "metadata": {
    "dc": {
     "key": "60"
    },
    "deletable": false,
    "editable": false,
    "run_control": {
     "frozen": true
    },
    "tags": [
     "context"
    ]
   },
   "source": [
    "## 9. Plotting with color!\n",
    "<p>Lovely looping! We now have a <code>colors</code> list that we can pass to our scatter plot, which should allow us to visually inspect whether these genres might be responsible for the decline in the average duration of movies.</p>\n",
    "<p>This time, we'll also spruce up our plot with some additional axis labels and a new theme with <code>plt.style.use()</code>. The latter isn't taught in Intermediate Python, but can be a fun way to add some visual flair to a basic <code>matplotlib</code> plot. You can find more information on customizing the style of your plot <a href=\"https://matplotlib.org/stable/tutorials/introductory/customizing.html\">here</a>!</p>"
   ]
  },
  {
   "cell_type": "code",
   "execution_count": 18,
   "id": "07d8eac5",
   "metadata": {
    "dc": {
     "key": "60"
    },
    "tags": [
     "sample_code"
    ]
   },
   "outputs": [
    {
     "data": {
      "image/png": "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\n",
      "text/plain": [
       "<Figure size 864x576 with 1 Axes>"
      ]
     },
     "metadata": {},
     "output_type": "display_data"
    }
   ],
   "source": [
    "# Set the figure style and initalize a new figure\n",
    "plt.style.use('fivethirtyeight')\n",
    "fig = plt.figure(figsize=(12,8))\n",
    "\n",
    "# Create a scatter plot of duration versus release_year\n",
    "plt.scatter(netflix_movies_col_subset['duration'], netflix_movies_col_subset ['release_year'])\n",
    "\n",
    "# Create a title and axis labels\n",
    "plt.title(\"Movie duration by year of release\")\n",
    "plt.xlabel(\"Release year\")\n",
    "plt.ylabel(\"Duration (min)\")\n",
    "\n",
    "# Show the plot\n",
    "plt.show()"
   ]
  },
  {
   "cell_type": "markdown",
   "id": "4d674c99",
   "metadata": {
    "dc": {
     "key": "67"
    },
    "deletable": false,
    "editable": false,
    "run_control": {
     "frozen": true
    },
    "tags": [
     "context"
    ]
   },
   "source": [
    "## 10. What next?\n",
    "<p>Well, as we suspected, non-typical genres such as children's movies and documentaries are all clustered around the bottom half of the plot. But we can't know for certain until we perform additional analyses. </p>\n",
    "<p>Congratulations, you've performed an exploratory analysis of some entertainment data, and there are lots of fun ways to develop your skills as a Pythonic data scientist. These include learning how to analyze data further with statistics, creating more advanced visualizations, and perhaps most importantly, learning more advanced ways of working with data in <code>pandas</code>. This latter skill is covered in our fantastic course <a href=\"www.datacamp.com/courses/data-manipulation-with-pandas\">Data Manipulation with pandas</a>.</p>\n",
    "<p>We hope you enjoyed this application of the skills learned in Intermediate Python, and wish you all the best on the rest of your journey!</p>"
   ]
  },
  {
   "cell_type": "code",
   "execution_count": 20,
   "id": "efb56fc0",
   "metadata": {
    "collapsed": true,
    "dc": {
     "key": "67"
    },
    "jupyter": {
     "outputs_hidden": true
    },
    "tags": [
     "sample_code"
    ]
   },
   "outputs": [],
   "source": [
    "# Are we certain that movies are getting shorter?\n",
    "are_movies_getting_shorter = \"No\""
   ]
  }
 ],
 "metadata": {
  "kernelspec": {
   "display_name": "Python 3 (ipykernel)",
   "language": "python",
   "name": "python3"
  },
  "language_info": {
   "codemirror_mode": {
    "name": "ipython",
    "version": 3
   },
   "file_extension": ".py",
   "mimetype": "text/x-python",
   "name": "python",
   "nbconvert_exporter": "python",
   "pygments_lexer": "ipython3",
   "version": "3.8.10"
  }
 },
 "nbformat": 4,
 "nbformat_minor": 5
}
